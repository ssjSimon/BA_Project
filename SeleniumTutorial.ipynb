{
 "cells": [
  {
   "cell_type": "markdown",
   "metadata": {
    "deletable": true,
    "editable": true
   },
   "source": [
    "<center>\n",
    "<h1>Selenium with Python</h1>\n",
    "</center> \n",
    "\n",
    "## 1. Motivation\n",
    "Assume you are a business analyst, and your manager asks you to monitor the stock market using data from CNN Money (http://money.cnn.com/data/markets/). Then the first thing you need to do is to get the data. But how? Selenium is a powerful package that gives you the solution. Primarily, it can automate browsers. You can use the package to automatically interact with the webpage, and extract the specific information you need by navigating the parse tree. <br>\n",
    "Selenium Python bindings provides a simple API to write functional/acceptance tests using Selenium WebDriver. Through Selenium Python API you can access all functionalities of Selenium WebDriver in an intuitive way. This documentation aims to give you a detailed introduction on how to use Selenium 2 WebDriver API. Note that Selenium 1 / Selenium RC API is not covered here.\n",
    "___"
   ]
  },
  {
   "cell_type": "markdown",
   "metadata": {},
   "source": [
    "## 2. Alternative Solutions for Solving the Problem\n",
    "If all you need to do is pull content from \"static\" HTML pages, you could also use **urllib2** with **lxml** or **BeautifulSoup**. Both libraries provide automic ways of navigating, searching, and modifying the parse tree. \n",
    "___"
   ]
  },
  {
   "cell_type": "markdown",
   "metadata": {},
   "source": [
    "## 3. Installation Instructions and Limitations of the Platform\n",
    "### 3.1 Downloading Python bindings for Selenium\n",
    "- Mac User <br>\n",
    "Run \"pip install selenium\" in terminal.\n",
    "- Window User <br>\n",
    "1.Install Python 3.5 using the MSI available in python.org download page. <br>\n",
    "2.Start a command prompt using the <font color='red'>cmd.exe</font> program and run the <font color='red'>pip</font> command \"C:\\Python35\\Scripts\\pip.exe install selenium\" to install *selenium*.<br>\n",
    "Now you can run your test scripts using Python. For example, if you have created a Selenium based script and saved it inside <font color='red'>C:\\my_selenium_script.py</font>, you can run it like this:  \n",
    "<font color='red'>C:\\Python35\\python.exe C:\\my_selenium_script.py</font>\n",
    "\n",
    "### 3.2 Download webdriver\n",
    "The available webdriver to download now include: \n",
    "webdriver.Firefox, webdriver.FirefoxProfile, webdriver.Chrome, webdriver.ChromeOptions, webdriver.Ie, webdriver.Opera, webdriver.PhantomJS, webdriver.Remote, webdriver.DesiredCapabilities, webdriver.ActionChains, webdriver.TouchActions, webdriver.Proxy\n",
    "Depending on your needs, you could search each drivers, download, and put them in your folder. In this tutorial, we will use webdriver.Chrome. You could download it here: https://sites.google.com/a/chromium.org/chromedriver/downloads).\n",
    "\n",
    "### 3.3 Limitations\n",
    "- Selenium is not a complete, comprehensive solution to fully automating the testing of web applications. It requires third-party frameworks, language bindings and so on to be truly effective.\n",
    "- Selenium has technical issues with browsers other than Firefox. Furthermore, it does not support conditionals, loops and has trouble finding locators without the help of additional tools such as Firebug.\n",
    "- Selenium does not support test and result sharing in anything but a manual way.\n",
    "- There is no support for running tests in parallel on a single computer.\n",
    "___"
   ]
  },
  {
   "cell_type": "markdown",
   "metadata": {},
   "source": [
    "## 4. Minimal working example\n",
    "If you have installed Selenium Python bindings and the selenium.webdriver API (e.g., webdriver.Firefox, webdriver.Chrome, webdriver.PhantomJS, webdriver.Ie, webdriver.PhantomJS etc.), you can start using it from Python like this. <br>\n",
    "The **selenium.webdriver module** provides all the WebDriver implementations. Currently supported WebDriver implementations include Firefox, Chrome, IE, Remote etc. "
   ]
  },
  {
   "cell_type": "code",
   "execution_count": null,
   "metadata": {
    "collapsed": true
   },
   "outputs": [],
   "source": [
    "import time\n",
    "from selenium import webdriver"
   ]
  },
  {
   "cell_type": "markdown",
   "metadata": {},
   "source": [
    "It's always better to specify your local \"/path/to/chromedriver\". The ***driver.get*** method will navigate to a page given by the URL. WebDriver will wait until the page has fully loaded (that is, the “onload” event has fired) before returning control to your test or script. It’s worth noting that if your page uses a lot of AJAX on load then WebDriver may not know when it has completely loaded."
   ]
  },
  {
   "cell_type": "code",
   "execution_count": null,
   "metadata": {
    "collapsed": false
   },
   "outputs": [],
   "source": [
    "#path = !pwd\n",
    "#driver = webdriver.Chrome(path[0]+\"/chromedriver\")  # Optional argument, if not specified will search path.\n",
    "driver = webdriver.Chrome('/path/to/chromedriver')  # Optional argument, if not specified will search path.\n",
    "driver.get('http://www.google.com/xhtml');\n",
    "time.sleep(5) # Let the user actually see something!"
   ]
  },
  {
   "cell_type": "markdown",
   "metadata": {},
   "source": [
    "WebDriver offers a number of ways to find elements using one of the ***find_element\\_by\\_* methods***. For example, the input text element can be located by its name attribute using ***find_element_by_name*** method. <br>\n",
    "Next we are sending keys, this is similar to entering keys using your keyboard. Special keys can be sent using ***Keys*** class imported from ***selenium.webdriver.common.keys***. To be safe, we’ll first clear any prepopulated text in the input field (e.g. “Search”) so it doesn’t affect our search results."
   ]
  },
  {
   "cell_type": "code",
   "execution_count": null,
   "metadata": {
    "collapsed": true
   },
   "outputs": [],
   "source": [
    "search_box = driver.find_element_by_name('q')\n",
    "search_box.clear()\n",
    "search_box.send_keys('ChromeDriver')\n",
    "search_box.submit()\n",
    "time.sleep(5) # Let the user actually see something!"
   ]
  },
  {
   "cell_type": "markdown",
   "metadata": {},
   "source": [
    "Finally, the browser window is closed. You can also call ***quit*** method instead of ***close***. The quit will **exit entire browser** whereas close will **close one tab**, but if just one tab was open, by default most browser will exit entirely."
   ]
  },
  {
   "cell_type": "code",
   "execution_count": null,
   "metadata": {
    "collapsed": true
   },
   "outputs": [],
   "source": [
    "driver.close() # close the driver"
   ]
  },
  {
   "cell_type": "markdown",
   "metadata": {},
   "source": [
    "___"
   ]
  },
  {
   "cell_type": "markdown",
   "metadata": {},
   "source": [
    "## 5. Detailed Examples of Typical Use Cases"
   ]
  },
  {
   "cell_type": "markdown",
   "metadata": {},
   "source": [
    "### 5.1 Navigating ###\n",
    "One of Selenium’s major functions is to automate the interaction with webpages, or, more specifically, the HTML elements within a page.  Selemium can help users navigate to a link by WebDriver, interact with a webpages, filling in forms, moving an element by a certain amount, or on to another element, and many more interactions. Let’s start with a typical working example on navigating webpages. The following program automatically searchs on “humidifier” at Amazon.com. "
   ]
  },
  {
   "cell_type": "code",
   "execution_count": null,
   "metadata": {
    "collapsed": false
   },
   "outputs": [],
   "source": [
    "#import webdriver from selenium\n",
    "from selenium import webdriver\n",
    "from selenium.webdriver.common.keys import Keys\n",
    "\n",
    "#Create Chrome Webdriver for the Chrome browser\n",
    "#driver = webdriver.Chrome(path[0]+\"/chromedriver\")\n",
    "#Note: Specify your local path to chromedriver!\n",
    "driver = webdriver.Chrome('/path/to/chromedriver')  # Optional argument, if not specified will search path.\n",
    "\n",
    "#Specify the targeted website\n",
    "driver.get(\"https://www.amazon.com\")\n",
    "\n",
    "#Identify the search box by id\n",
    "elem = driver.find_element_by_id(\"twotabsearchtextbox\")\n",
    "\n",
    "#Clear any previous text in the search box. \n",
    "elem.clear()\n",
    "\n",
    "#Send keyword for search\n",
    "elem.send_keys(\"humidifier\")\n",
    "\n",
    "#Do the search action\n",
    "elem.send_keys(Keys.RETURN)\n",
    "\n",
    "#To test if any results showed\n",
    "assert \"No results found.\" not in driver.page_source\n",
    "\n",
    "#After the search, close the browser\n",
    "driver.close()"
   ]
  },
  {
   "cell_type": "markdown",
   "metadata": {},
   "source": [
    "The second example is to automate logging into Amazon with individual credentials."
   ]
  },
  {
   "cell_type": "code",
   "execution_count": null,
   "metadata": {
    "collapsed": true
   },
   "outputs": [],
   "source": [
    "from selenium import webdriver\n",
    "from selenium.webdriver.common.keys import Keys\n",
    "\n",
    "#Create Chrome Webdriver for the Chrome browser\n",
    "#driver = webdriver.Chrome(path[0]+\"/chromedriver\")\n",
    "#Note: Specify your local path to chromedriver!\n",
    "driver = webdriver.Chrome('/path/to/chromedriver')  # Optional argument, if not specified will search path.\n",
    "\n",
    "#Go to the login page\n",
    "url=\"https://www.amazon.com/ap/signin?_encoding=UTF8&openid.assoc_handle=usflex&openid.claimed_id=http%3A%2F%2Fspecs.openid.net%2Fauth%2F2.0%2Fidentifier_select&openid.identity=http%3A%2F%2Fspecs.openid.net%2Fauth%2F2.0%2Fidentifier_select&openid.mode=checkid_setup&openid.ns=http%3A%2F%2Fspecs.openid.net%2Fauth%2F2.0&openid.ns.pape=http%3A%2F%2Fspecs.openid.net%2Fextensions%2Fpape%2F1.0&openid.pape.max_auth_age=0&openid.return_to=https%3A%2F%2Fwww.amazon.com%2F%3Fref_%3Dnav_custrec_signin\"\n",
    "driver.get(url)\n",
    "\n",
    "#Identify the field of putting in email\n",
    "elem = driver.find_element_by_name(\"email\")\n",
    "\n",
    "#Clear any previous text in the search box. \n",
    "elem.clear()\n",
    "\n",
    "#Send email address\n",
    "elem.send_keys(\"xxxx@xxx.com\")\n",
    "\n",
    "#Identify the field of putting in password\n",
    "elem = driver.find_element_by_name(\"password\")\n",
    "\n",
    "#Clear any previous text in the search box. \n",
    "elem.clear()\n",
    "\n",
    "#Send password\n",
    "elem.send_keys(\"XXXX\")\n",
    "\n",
    "\n",
    "#Do the search action\n",
    "elem.send_keys(Keys.RETURN)\n",
    "\n",
    "#To test if the sending credential works\n",
    "assert \"There was a problem\" not in driver.page_source"
   ]
  },
  {
   "cell_type": "markdown",
   "metadata": {},
   "source": [
    "Another interesting feature is that Selenium WebDrive can access the alert after an alert pop-up is triggered with: "
   ]
  },
  {
   "cell_type": "code",
   "execution_count": null,
   "metadata": {
    "collapsed": true
   },
   "outputs": [],
   "source": [
    "alert = driver.switch_to_alert()"
   ]
  },
  {
   "cell_type": "markdown",
   "metadata": {},
   "source": [
    "Selenium can also help manage cookies:"
   ]
  },
  {
   "cell_type": "code",
   "execution_count": null,
   "metadata": {
    "collapsed": false
   },
   "outputs": [],
   "source": [
    "# Go to the domain\n",
    "driver.get(\"https://www.xxxxx.com\")\n",
    "\n",
    "# Now set the cookie. This one's valid for the entire domain\n",
    "# Replace \"foo\" with your username, replace \"bar\" with your passwords\n",
    "cookie = {‘name’ : ‘foo’, ‘value’ : ‘bar’}\n",
    "driver.add_cookie(cookie)\n",
    "\n",
    "# And now output all the available cookies for the current URL\n",
    "driver.get_cookies()"
   ]
  },
  {
   "cell_type": "markdown",
   "metadata": {},
   "source": [
    "### 5.2 Locating Elements ###\n",
    "There are various strategies to locate elements in a page. You can use the most appropriate one for your case. Let's start with an example of finding the detailed information of a product on Amazon.com. Here we use webdriver.PhantomJS, you could download it here: http://phantomjs.org/download.html."
   ]
  },
  {
   "cell_type": "code",
   "execution_count": null,
   "metadata": {
    "collapsed": true
   },
   "outputs": [],
   "source": [
    "from selenium import webdriver\n",
    "from selenium import webdriver\n",
    "from selenium.webdriver.common.keys import Keys\n",
    "from selenium.webdriver.common.by import By\n",
    "from selenium.webdriver.support.ui import WebDriverWait\n",
    "from selenium.webdriver.support import expected_conditions as EC\n",
    "#Note: Specify your local path to PhantomJS!\n",
    "driver = webdriver.Chrome('/path/to/chromedriver')  # Optional argument, if not specified will search path."
   ]
  },
  {
   "cell_type": "code",
   "execution_count": null,
   "metadata": {
    "collapsed": true
   },
   "outputs": [],
   "source": [
    "url = 'https://www.amazon.com/Apple-iPhone-64GB-Unlocked-Smartphone/dp/B00YD548Q0/ref=sr_1_1?s=wireless&ie=UTF8&qid=1487517022&sr=1-1&keywords=iphone'\n",
    "driver.get(url)"
   ]
  },
  {
   "cell_type": "markdown",
   "metadata": {},
   "source": [
    "There are two private methods that could be useful with locators in page objects. These two methods are: find_element and find_elements. Here is an example:"
   ]
  },
  {
   "cell_type": "code",
   "execution_count": null,
   "metadata": {
    "collapsed": false
   },
   "outputs": [],
   "source": [
    "from selenium.webdriver.common.by import By\n",
    "driver.find_element(By.XPATH, '//*[@id=\"nav-main\"]/div[1]')\n",
    "driver.find_elements(By.XPATH, '//*[@id=\"nav-main\"]/div[*]')"
   ]
  },
  {
   "cell_type": "markdown",
   "metadata": {},
   "source": [
    "You should use ***find_element_by_id** when you know id attribute of an element. With this strategy, the first element with the id attribute value matching the location will be returned. If no element has a matching id attribute, a ***NoSuchElementException*** will be raised. For instance, you can locate the element by 'nav-main'. Once the element is located, you can get all the properties of the element such as text."
   ]
  },
  {
   "cell_type": "code",
   "execution_count": null,
   "metadata": {
    "collapsed": false
   },
   "outputs": [],
   "source": [
    "nav_main = driver.find_element_by_id('nav-main')\n",
    "nav_main"
   ]
  },
  {
   "cell_type": "code",
   "execution_count": null,
   "metadata": {
    "collapsed": false
   },
   "outputs": [],
   "source": [
    "# display the properties of the selenium object\n",
    "print('The content of the element is:')\n",
    "print(nav_main.text)\n",
    "print('\\n')\n",
    "print('The parent of the element is:')\n",
    "print(nav_main.parent)\n",
    "print('\\n')\n",
    "print('The location of the element is: ')\n",
    "print(nav_main.location)\n",
    "print('\\n')\n",
    "print('The size of the element is:')\n",
    "print(nav_main.size)"
   ]
  },
  {
   "cell_type": "markdown",
   "metadata": {},
   "source": [
    "With ***find_element_by_name***, the first element with the name attribute value matching the location will be returned. You can also use ***find_elements_by_name***, which will return a list of elements. If no element has a matching id attribute, a NoSuchElementException will be raised."
   ]
  },
  {
   "cell_type": "code",
   "execution_count": null,
   "metadata": {
    "collapsed": false
   },
   "outputs": [],
   "source": [
    "description = driver.find_element_by_name('description')\n",
    "description"
   ]
  },
  {
   "cell_type": "markdown",
   "metadata": {},
   "source": [
    "XPath is the language used for locating nodes in an XML documents. Selenium users can leverage this powerful language to target elements in applications. The following references are recommened if you are not familiar with XPath:\n",
    "* https://www.w3.org/TR/xpath/\n",
    "- http://www.zvon.org/comp/r/tut-XPath_1.html\n",
    "\n",
    "There are also a couple of very useful add-ons that could assist you in discovering the XPath of an element:\n",
    "* XPath Checker\n",
    "- Firebug\n",
    "+ XPath Helper for Google Chrome"
   ]
  },
  {
   "cell_type": "code",
   "execution_count": null,
   "metadata": {
    "collapsed": false
   },
   "outputs": [],
   "source": [
    "search = driver.find_element_by_xpath('//*[@id=\"twotabsearchtextbox\"]')\n",
    "search"
   ]
  },
  {
   "cell_type": "markdown",
   "metadata": {},
   "source": [
    "You could use ***find_element_by_link_text*** when you know the whole link text or ***find_element_by_partial_link_text*** when only partial link text is known. With those strategies, the element with the link text value matching the location will be returned. Since no element has a matching link text attribute in our example, a NoSuchElementException is raised."
   ]
  },
  {
   "cell_type": "code",
   "execution_count": null,
   "metadata": {
    "collapsed": false
   },
   "outputs": [],
   "source": [
    "#### NoSuchElementException is expected here ####\n",
    "# accessories_link = driver.find_element_by_link_text('accessories')\n",
    "accessories_link = driver.find_element_by_partial_link_text('accessories')\n",
    "accessories_link"
   ]
  },
  {
   "cell_type": "markdown",
   "metadata": {},
   "source": [
    "With using find_element_by_tag_name, the first element with the given tag name will be returned."
   ]
  },
  {
   "cell_type": "code",
   "execution_count": null,
   "metadata": {
    "collapsed": false
   },
   "outputs": [],
   "source": [
    "heading1 = driver.find_element_by_tag_name('h1')\n",
    "heading1"
   ]
  },
  {
   "cell_type": "markdown",
   "metadata": {},
   "source": [
    "When the class attribute name is known, find_element_by_class_name would be the best choice for you."
   ]
  },
  {
   "cell_type": "code",
   "execution_count": null,
   "metadata": {
    "collapsed": false
   },
   "outputs": [],
   "source": [
    "logo_link = driver.find_element_by_class_name('nav-logo-link')\n",
    "logo_link"
   ]
  },
  {
   "cell_type": "markdown",
   "metadata": {},
   "source": [
    "Finally, you could also locate an element by CSS selector syntax. The first element with the matching CSS selector will be returned."
   ]
  },
  {
   "cell_type": "code",
   "execution_count": null,
   "metadata": {
    "collapsed": false
   },
   "outputs": [],
   "source": [
    "logo_link_css = driver.find_element_by_css_selector('a.nav-logo-link')\n",
    "logo_link_css"
   ]
  },
  {
   "cell_type": "markdown",
   "metadata": {},
   "source": [
    "___"
   ]
  },
  {
   "cell_type": "markdown",
   "metadata": {},
   "source": [
    "## 6. Other useful features\n",
    "### 6.1 Waits \n",
    "These days most of the web apps are using AJAX techniques. When a page is loaded to browser, the elements within that page may load at different time intervals. This makes locating elements difficult, if the element is not present in the DOM, it will raise ElementNotVisibleException exception. Using waits, we can solve this issue. Waiting provides some time interval between actions performed - mostly locating element or any other operation with the element.\n",
    "\n",
    "Selenium Webdriver provides two types of waits - ***implicit & explicit***. An explicit wait makes WebDriver to wait for a certain condition to occur before proceeding further with executions. An implicit wait makes WebDriver to poll the DOM for a certain amount of time when trying to locate an element.\n",
    "### 6.2 Page Objects\n",
    "A page object represents an area in the web application user interface that your test is interacting. There are several benefits of using page object pattern:\n",
    "* Creating reusable code that can be shared across multiple test cases\n",
    "* Reducing the amount of duplicated code\n",
    "* If the user interface changes, the fix needs changes in only one place\n",
    "___"
   ]
  },
  {
   "cell_type": "markdown",
   "metadata": {},
   "source": [
    "## 7. Summary and personal assessment of the library\n",
    "- Selenium has no upfront, out-of-pocket costs. It is a free download and support is free too.\n",
    "- Selenium tests are, in principle, able to run under multiple browsers.\n",
    "- Although Selenium has its own script language, you are not limited to writing in that language since it can work with language bindings to support whatever your developers/testers are comfortable with including C#, Java, JavaScript, PHP, Python and others.\n",
    "___"
   ]
  },
  {
   "cell_type": "markdown",
   "metadata": {},
   "source": [
    "## 8. References\n",
    "http://selenium-python.readthedocs.io/index.html\n",
    "___"
   ]
  }
 ],
 "metadata": {
  "anaconda-cloud": {},
  "kernelspec": {
   "display_name": "Python [default]",
   "language": "python",
   "name": "python2"
  },
  "language_info": {
   "codemirror_mode": {
    "name": "ipython",
    "version": 2
   },
   "file_extension": ".py",
   "mimetype": "text/x-python",
   "name": "python",
   "nbconvert_exporter": "python",
   "pygments_lexer": "ipython2",
   "version": "2.7.12"
  }
 },
 "nbformat": 4,
 "nbformat_minor": 2
}
